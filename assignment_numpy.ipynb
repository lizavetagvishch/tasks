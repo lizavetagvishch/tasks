{
 "cells": [
  {
   "cell_type": "markdown",
   "id": "d3df79dd",
   "metadata": {},
   "source": [
    "## Упражнения по библиотеке Numpy"
   ]
  },
  {
   "cell_type": "code",
   "execution_count": 69,
   "id": "76b9c43b",
   "metadata": {},
   "outputs": [],
   "source": [
    "import numpy as np"
   ]
  },
  {
   "cell_type": "markdown",
   "id": "03727b7c",
   "metadata": {},
   "source": [
    "**1.** Дан случайный массив, поменять знак у элементов, значения которых между 3 и 8"
   ]
  },
  {
   "cell_type": "code",
   "execution_count": 70,
   "id": "b89a7523",
   "metadata": {},
   "outputs": [
    {
     "data": {
      "text/plain": [
       "array([ -9, -10,   1,   1,   6,  -1,   5,   4,   4,   8,   1,   9,  -8,\n",
       "        -6,   8,  -4,  -2,  -4,   7,  -7,   3,   7,  -2,  -9,   9,   4,\n",
       "        -4,   1,  -3,   4,  -8,   3,   6,  -7,   7,  -3,  -7,  -9,  -5,\n",
       "        -1,  -7,   7,   1,  -9,  -1,  -7,   3,   5,   4,  -3,   3,  -3,\n",
       "         5,   2,   7,   4,   2,  -2,   4,   2, -10,  -4,  -2, -10,   1,\n",
       "        -3,   0,   8,   6,  -3,  -8,  -8, -10,  -6,  -1,  -4,  -2,  -4,\n",
       "        -2,  -3,   1,  -9, -10,   5,  -6,  -8,   1,  -3,  -8, -10,  -8,\n",
       "        -6,   4,   3,  -8, -10,  -6,   3,  -4,  -2], dtype=int32)"
      ]
     },
     "execution_count": 70,
     "metadata": {},
     "output_type": "execute_result"
    }
   ],
   "source": [
    "random_array = np.random.randint(-10, 10, size=100)\n",
    "random_array"
   ]
  },
  {
   "cell_type": "code",
   "execution_count": 71,
   "id": "bdd37a4a-198b-46a8-8dd6-3e11ee58d4b5",
   "metadata": {},
   "outputs": [
    {
     "data": {
      "text/plain": [
       "array([ -9, -10,   1,   1,  -6,  -1,  -5,  -4,  -4,   8,   1,   9,  -8,\n",
       "        -6,   8,  -4,  -2,  -4,  -7,  -7,   3,  -7,  -2,  -9,   9,  -4,\n",
       "        -4,   1,  -3,  -4,  -8,   3,  -6,  -7,  -7,  -3,  -7,  -9,  -5,\n",
       "        -1,  -7,  -7,   1,  -9,  -1,  -7,   3,  -5,  -4,  -3,   3,  -3,\n",
       "        -5,   2,  -7,  -4,   2,  -2,  -4,   2, -10,  -4,  -2, -10,   1,\n",
       "        -3,   0,   8,  -6,  -3,  -8,  -8, -10,  -6,  -1,  -4,  -2,  -4,\n",
       "        -2,  -3,   1,  -9, -10,  -5,  -6,  -8,   1,  -3,  -8, -10,  -8,\n",
       "        -6,  -4,   3,  -8, -10,  -6,   3,  -4,  -2], dtype=int32)"
      ]
     },
     "execution_count": 71,
     "metadata": {},
     "output_type": "execute_result"
    }
   ],
   "source": [
    "random_array[(random_array > 3) & (random_array < 8)] *= -1\n",
    "random_array"
   ]
  },
  {
   "cell_type": "markdown",
   "id": "5fa4abda",
   "metadata": {},
   "source": [
    "**2.** Заменить максимальный элемент случайного массива на 0"
   ]
  },
  {
   "cell_type": "code",
   "execution_count": 72,
   "id": "f2788a6e",
   "metadata": {},
   "outputs": [
    {
     "data": {
      "text/plain": [
       "array([ -9, -10,   1,   1,  -6,  -1,  -5,  -4,  -4,   8,   1,   0,  -8,\n",
       "        -6,   8,  -4,  -2,  -4,  -7,  -7,   3,  -7,  -2,  -9,   0,  -4,\n",
       "        -4,   1,  -3,  -4,  -8,   3,  -6,  -7,  -7,  -3,  -7,  -9,  -5,\n",
       "        -1,  -7,  -7,   1,  -9,  -1,  -7,   3,  -5,  -4,  -3,   3,  -3,\n",
       "        -5,   2,  -7,  -4,   2,  -2,  -4,   2, -10,  -4,  -2, -10,   1,\n",
       "        -3,   0,   8,  -6,  -3,  -8,  -8, -10,  -6,  -1,  -4,  -2,  -4,\n",
       "        -2,  -3,   1,  -9, -10,  -5,  -6,  -8,   1,  -3,  -8, -10,  -8,\n",
       "        -6,  -4,   3,  -8, -10,  -6,   3,  -4,  -2], dtype=int32)"
      ]
     },
     "execution_count": 72,
     "metadata": {},
     "output_type": "execute_result"
    }
   ],
   "source": [
    "max_el = random_array.max()\n",
    "random_array[random_array == max_el]=0\n",
    "random_array"
   ]
  },
  {
   "cell_type": "markdown",
   "id": "3cac656b",
   "metadata": {},
   "source": [
    "**3.** Построить прямое произведение массивов (все комбинации с каждым элементом). На вход подается двумерный массив"
   ]
  },
  {
   "cell_type": "code",
   "execution_count": 73,
   "id": "3396b764",
   "metadata": {},
   "outputs": [
    {
     "data": {
      "text/plain": [
       "array([[1, 3, 5],\n",
       "       [1, 3, 6],\n",
       "       [1, 4, 5],\n",
       "       [1, 4, 6],\n",
       "       [2, 3, 5],\n",
       "       [2, 3, 6],\n",
       "       [2, 4, 5],\n",
       "       [2, 4, 6]])"
      ]
     },
     "execution_count": 73,
     "metadata": {},
     "output_type": "execute_result"
    }
   ],
   "source": [
    "arrays = np.array([[1, 2], [3, 4], [5, 6]])\n",
    "meshes = np.meshgrid(*arrays, indexing='ij')\n",
    "result = np.stack(meshes, axis=-1).reshape(-1, arrays.shape[0])\n",
    "result"
   ]
  },
  {
   "cell_type": "markdown",
   "id": "674c9354",
   "metadata": {},
   "source": [
    "**4.** Даны 2 массива A (8x3) и B (2x2). Найти строки в A, которые содержат элементы из каждой строки в B, независимо от порядка элементов в B"
   ]
  },
  {
   "cell_type": "code",
   "execution_count": 75,
   "id": "cb664782",
   "metadata": {},
   "outputs": [
    {
     "data": {
      "text/plain": [
       "array([[1, 5, 9],\n",
       "       [3, 5, 7]])"
      ]
     },
     "execution_count": 75,
     "metadata": {},
     "output_type": "execute_result"
    }
   ],
   "source": [
    "A = np.array([\n",
    "    [1, 2, 3],\n",
    "    [4, 5, 6],\n",
    "    [7, 8, 9],\n",
    "    [1, 4, 7],\n",
    "    [2, 5, 8],\n",
    "    [3, 6, 9],\n",
    "    [1, 5, 9],\n",
    "    [3, 5, 7]\n",
    "])\n",
    "\n",
    "B = np.array([\n",
    "    [1, 5],\n",
    "    [3, 7]\n",
    "])\n",
    "result = []\n",
    "\n",
    "for row in B:\n",
    "    mask = np.array([np.all(np.isin(row, a)) for a in A])\n",
    "    result.append(mask)\n",
    "\n",
    "res_mask = np.any(result, axis=0)\n",
    "\n",
    "matching_rows = A[res_mask]\n",
    "matching_rows"
   ]
  },
  {
   "cell_type": "markdown",
   "id": "fa46533b",
   "metadata": {},
   "source": [
    "**5.** Дана 10x3 матрица, найти строки из неравных значений (например строка [2,2,3] остается, строка [3,3,3] удаляется)"
   ]
  },
  {
   "cell_type": "code",
   "execution_count": 77,
   "id": "fa545b23",
   "metadata": {},
   "outputs": [
    {
     "data": {
      "text/plain": [
       "array([[2, 2, 2],\n",
       "       [1, 2, 1],\n",
       "       [1, 2, 2],\n",
       "       [2, 2, 2],\n",
       "       [2, 2, 2],\n",
       "       [1, 2, 2],\n",
       "       [1, 2, 1],\n",
       "       [1, 2, 1],\n",
       "       [1, 1, 1],\n",
       "       [2, 1, 2]], dtype=int32)"
      ]
     },
     "execution_count": 77,
     "metadata": {},
     "output_type": "execute_result"
    }
   ],
   "source": [
    "matrix = np.random.randint(1, 3, size=(10, 3))\n",
    "matrix"
   ]
  },
  {
   "cell_type": "code",
   "execution_count": 78,
   "id": "acf07352-af75-41cc-9d57-621cc735bf26",
   "metadata": {},
   "outputs": [
    {
     "data": {
      "text/plain": [
       "array([[1, 2, 1],\n",
       "       [1, 2, 2],\n",
       "       [1, 2, 2],\n",
       "       [1, 2, 1],\n",
       "       [1, 2, 1],\n",
       "       [2, 1, 2]], dtype=int32)"
      ]
     },
     "execution_count": 78,
     "metadata": {},
     "output_type": "execute_result"
    }
   ],
   "source": [
    "def unique_rows(mtrx):\n",
    "    unique_rows = mtrx[~np.all(mtrx == mtrx[:, [0]], axis=1)]\n",
    "    return unique_rows\n",
    "res = unique_rows(matrix)\n",
    "res"
   ]
  },
  {
   "cell_type": "markdown",
   "id": "28f0d116",
   "metadata": {},
   "source": [
    "**6.** Дан двумерный массив. Удалить те строки, которые повторяются"
   ]
  },
  {
   "cell_type": "code",
   "execution_count": 79,
   "id": "83d2c0b7",
   "metadata": {},
   "outputs": [
    {
     "data": {
      "text/plain": [
       "array([[1, 1, 1],\n",
       "       [1, 2, 2],\n",
       "       [1, 1, 2],\n",
       "       [1, 1, 1],\n",
       "       [2, 2, 2],\n",
       "       [1, 1, 2],\n",
       "       [2, 2, 2],\n",
       "       [1, 2, 1],\n",
       "       [2, 1, 2],\n",
       "       [2, 2, 2],\n",
       "       [1, 2, 1],\n",
       "       [1, 1, 1],\n",
       "       [2, 1, 1],\n",
       "       [1, 2, 2],\n",
       "       [2, 2, 1]], dtype=int32)"
      ]
     },
     "execution_count": 79,
     "metadata": {},
     "output_type": "execute_result"
    }
   ],
   "source": [
    "arr = np.random.randint(1,3, size=(15,3))\n",
    "arr"
   ]
  },
  {
   "cell_type": "code",
   "execution_count": 80,
   "id": "3590024f-0366-4493-a2ee-7de60fbd4250",
   "metadata": {},
   "outputs": [
    {
     "data": {
      "text/plain": [
       "array([[1, 1, 1],\n",
       "       [1, 1, 2],\n",
       "       [1, 2, 1],\n",
       "       [1, 2, 2],\n",
       "       [2, 1, 1],\n",
       "       [2, 1, 2],\n",
       "       [2, 2, 1],\n",
       "       [2, 2, 2]], dtype=int32)"
      ]
     },
     "execution_count": 80,
     "metadata": {},
     "output_type": "execute_result"
    }
   ],
   "source": [
    "unique_arr = np.unique(arr, axis=0)\n",
    "unique_arr"
   ]
  },
  {
   "cell_type": "markdown",
   "id": "6daa9e37",
   "metadata": {},
   "source": [
    "______\n",
    "______"
   ]
  },
  {
   "cell_type": "markdown",
   "id": "cfbfcaff",
   "metadata": {},
   "source": [
    "Для каждой из следующих задач (1-5) нужно привести 2 реализации – одна без использования numpy (cчитайте, что там, где на входе или выходе должны быть numpy array, будут просто списки), а вторая полностью векторизованная с использованием numpy (без использования питоновских циклов/map/list comprehension).\n",
    "\n",
    "\n",
    "__Замечание 1.__ Можно считать, что все указанные объекты непустые (к примеру, в __задаче 1__ на диагонали матрицы есть ненулевые элементы).\n",
    "\n",
    "__Замечание 2.__ Для большинства задач решение занимает не больше 1-2 строк."
   ]
  },
  {
   "cell_type": "markdown",
   "id": "673cac7f",
   "metadata": {},
   "source": [
    "___"
   ]
  },
  {
   "cell_type": "markdown",
   "id": "ca6f585e",
   "metadata": {},
   "source": [
    "* __Задача 1__: Подсчитать произведение ненулевых элементов на диагонали прямоугольной матрицы.  \n",
    " Например, для X = np.array([[1, 0, 1], [2, 0, 2], [3, 0, 3], [4, 4, 4]]) ответ 3."
   ]
  },
  {
   "cell_type": "code",
   "execution_count": 81,
   "id": "065862fc",
   "metadata": {},
   "outputs": [
    {
     "data": {
      "text/plain": [
       "3"
      ]
     },
     "execution_count": 81,
     "metadata": {},
     "output_type": "execute_result"
    }
   ],
   "source": [
    "X = [[1, 0, 1], \n",
    "     [2, 0, 2], \n",
    "     [3, 0, 3], \n",
    "     [4, 4, 4]]\n",
    "res = 1\n",
    "for i in range(min(len(X), len(X[0]))):  \n",
    "        if X[i][i] != 0:  \n",
    "            res *= X[i][i]  \n",
    "res"
   ]
  },
  {
   "cell_type": "code",
   "execution_count": 82,
   "id": "c910a8c6-c35a-4d52-9bc9-7d218284eca7",
   "metadata": {},
   "outputs": [
    {
     "data": {
      "text/plain": [
       "3"
      ]
     },
     "execution_count": 82,
     "metadata": {},
     "output_type": "execute_result"
    }
   ],
   "source": [
    " X = np.array([[1, 0, 1], [2, 0, 2], [3, 0, 3], [4, 4, 4]])\n",
    "diagonal_elements = np.diagonal(X)\n",
    "nonzero_elements = diagonal_elements[diagonal_elements != 0]\n",
    "res = np.prod(nonzero_elements) \n",
    "int(res)"
   ]
  },
  {
   "cell_type": "markdown",
   "id": "9fc51d41",
   "metadata": {},
   "source": [
    "* __Задача 2__: Даны два вектора x и y. Проверить, задают ли они одно и то же мультимножество.  \n",
    "  Например, для x = np.array([1, 2, 2, 4]), y = np.array([4, 2, 1, 2]) ответ True."
   ]
  },
  {
   "cell_type": "code",
   "execution_count": 83,
   "id": "a809e02f",
   "metadata": {},
   "outputs": [
    {
     "data": {
      "text/plain": [
       "True"
      ]
     },
     "execution_count": 83,
     "metadata": {},
     "output_type": "execute_result"
    }
   ],
   "source": [
    "x = [1,2,2,4]\n",
    "y = [4,2,1,2]\n",
    "def is_same_multiset(x,y):\n",
    "    return sorted(x)==sorted(y)\n",
    "is_same_multiset(x,y)"
   ]
  },
  {
   "cell_type": "code",
   "execution_count": 84,
   "id": "45dfb266-dccf-4af4-a87c-dc8e96f69748",
   "metadata": {},
   "outputs": [
    {
     "data": {
      "text/plain": [
       "False"
      ]
     },
     "execution_count": 84,
     "metadata": {},
     "output_type": "execute_result"
    }
   ],
   "source": [
    "x = np.array([1, 2, 2, 4])\n",
    "y = np.array([4, 2, 1, 5])\n",
    "def is_same_multiset(x, y):\n",
    "    # Получаем уникальные элементы и их количество для каждого вектора\n",
    "    unique_x, counts_x = np.unique(x, return_counts=True)\n",
    "    unique_y, counts_y = np.unique(y, return_counts=True)\n",
    "    \n",
    "    # Сравниваем уникальные элементы и их количество\n",
    "    return np.array_equal(unique_x, unique_y) and np.array_equal(counts_x, counts_y)\n",
    "is_same_multiset(x,y)"
   ]
  },
  {
   "cell_type": "markdown",
   "id": "b9c185c7",
   "metadata": {},
   "source": [
    "* __Задача 3__: Найти максимальный элемент в векторе x среди элементов, перед которыми стоит ноль. \n",
    " Например, для x = np.array([6, 2, 0, 3, 0, 0, 5, 7, 0]) ответ 5."
   ]
  },
  {
   "cell_type": "code",
   "execution_count": 85,
   "id": "b57df008",
   "metadata": {},
   "outputs": [
    {
     "data": {
      "text/plain": [
       "5"
      ]
     },
     "execution_count": 85,
     "metadata": {},
     "output_type": "execute_result"
    }
   ],
   "source": [
    "x = [6, 2, 0, 3, 0, 0, 5, 7, 0]\n",
    "max_el = 0\n",
    "for i in range (len(x)):\n",
    "    if x[i] == 0 and i < len(x)-1:\n",
    "        if max_el < x[i+1]:\n",
    "            max_el = x[i+1]\n",
    "max_el"
   ]
  },
  {
   "cell_type": "code",
   "execution_count": 86,
   "id": "8854336c-e3ee-41a4-a250-ab1920960224",
   "metadata": {},
   "outputs": [
    {
     "data": {
      "text/plain": [
       "5"
      ]
     },
     "execution_count": 86,
     "metadata": {},
     "output_type": "execute_result"
    }
   ],
   "source": [
    "x = np.array([6, 2, 0, 3, 0, 0, 5, 7, 0])\n",
    "def max_after_zero(x):\n",
    "    zero_indices = np.where(x == 0)[0]\n",
    "    elements_after_zero = []\n",
    "    for idx in zero_indices:\n",
    "        if idx < len(x)-1:  \n",
    "            elements_after_zero.append(x[idx + 1])\n",
    "    return np.max(elements_after_zero) if elements_after_zero else None\n",
    "res = int(max_after_zero(x))\n",
    "res"
   ]
  },
  {
   "cell_type": "markdown",
   "id": "480be4ce",
   "metadata": {},
   "source": [
    "* __Задача 4__: Реализовать кодирование длин серий (Run-length encoding). Для некоторого вектора x необходимо вернуть кортеж из двух векторов одинаковой длины. Первый содержит числа, а второй - сколько раз их нужно повторить.  \n",
    " Например, для x = np.array([2, 2, 2, 3, 3, 3, 5]) ответ (np.array([2, 3, 5]), np.array([3, 3, 1]))."
   ]
  },
  {
   "cell_type": "code",
   "execution_count": 87,
   "id": "3c592124",
   "metadata": {},
   "outputs": [
    {
     "data": {
      "text/plain": [
       "([2, 3, 5], [3, 3, 1])"
      ]
     },
     "execution_count": 87,
     "metadata": {},
     "output_type": "execute_result"
    }
   ],
   "source": [
    "x = [2,2,2,3,3,3,5]\n",
    "def run_length_encoding(x):\n",
    "    values = []\n",
    "    counts = []\n",
    "    prev = x[0]\n",
    "    count = 1\n",
    "    \n",
    "    for i in range(1, len(x)):\n",
    "        if x[i] == prev:\n",
    "            count += 1\n",
    "        else:\n",
    "            values.append(prev)\n",
    "            counts.append(count)\n",
    "            prev = x[i]\n",
    "            count = 1\n",
    "    values.append(prev)\n",
    "    counts.append(count)\n",
    "    return values, counts\n",
    "\n",
    "values, counts = run_length_encoding(x)\n",
    "values, counts"
   ]
  },
  {
   "cell_type": "code",
   "execution_count": 88,
   "id": "5f863fdf-5069-4b01-82a8-ce2c75f5688a",
   "metadata": {},
   "outputs": [
    {
     "data": {
      "text/plain": [
       "(array([2, 3, 5]), array([3, 3, 1]))"
      ]
     },
     "execution_count": 88,
     "metadata": {},
     "output_type": "execute_result"
    }
   ],
   "source": [
    "def run_length_encoding(x):\n",
    "    values, counts = np.unique(x, return_counts=True)\n",
    "    return values, counts\n",
    "values, counts = run_length_encoding(x)\n",
    "values, counts"
   ]
  },
  {
   "cell_type": "markdown",
   "id": "077532ec",
   "metadata": {},
   "source": [
    "* __Задача 5__: Даны две выборки объектов - X и Y. Вычислить матрицу евклидовых расстояний между объектами. Сравните с функцией scipy.spatial.distance.cdist по скорости работы."
   ]
  },
  {
   "cell_type": "code",
   "execution_count": 89,
   "id": "1e807797",
   "metadata": {},
   "outputs": [],
   "source": [
    "import time\n",
    "from scipy.spatial.distance import cdist\n",
    "np.random.seed(42)\n",
    "X = np.random.randint(0, 100, (5, 2))\n",
    "Y = np.random.randint(0, 100, (5, 2))\n",
    "\n",
    "start = time.time()\n",
    "m, n = len(X), len(Y)\n",
    "dist_matrix = [[sum((X[i][k] - Y[j][k]) ** 2 for k in range(len(X[0]))) ** 0.5 for j in range(n)] for i in range(m)]\n",
    "result = np.array(dist_matrix)\n",
    "manual_time = time.time() - start\n",
    "\n",
    "start = time.time()\n",
    "scipy_result = cdist(X, Y, metric='euclidean')\n",
    "scipy_time = time.time() - start"
   ]
  },
  {
   "cell_type": "code",
   "execution_count": 90,
   "id": "23cf027c-e2e9-40c2-8cf8-cba8c3481454",
   "metadata": {},
   "outputs": [
    {
     "data": {
      "text/plain": [
       "array([[51, 92],\n",
       "       [14, 71],\n",
       "       [60, 20],\n",
       "       [82, 86],\n",
       "       [74, 74]], dtype=int32)"
      ]
     },
     "execution_count": 90,
     "metadata": {},
     "output_type": "execute_result"
    }
   ],
   "source": [
    "X"
   ]
  },
  {
   "cell_type": "code",
   "execution_count": 91,
   "id": "604e4d6d-7281-4678-97a0-9c2b8eecc6c5",
   "metadata": {},
   "outputs": [
    {
     "data": {
      "text/plain": [
       "array([[87, 99],\n",
       "       [23,  2],\n",
       "       [21, 52],\n",
       "       [ 1, 87],\n",
       "       [29, 37]], dtype=int32)"
      ]
     },
     "execution_count": 91,
     "metadata": {},
     "output_type": "execute_result"
    }
   ],
   "source": [
    "Y"
   ]
  },
  {
   "cell_type": "code",
   "execution_count": 92,
   "id": "fc8b2d7f-a979-420e-b4c4-6ce90e6035af",
   "metadata": {},
   "outputs": [
    {
     "data": {
      "text/plain": [
       "array([[ 36.67424164,  94.25497334,  50.        ,  50.24937811,\n",
       "         59.23681288],\n",
       "       [ 78.18567644,  69.58448103,  20.24845673,  20.61552813,\n",
       "         37.16180835],\n",
       "       [ 83.48652586,  41.14608122,  50.44799302,  89.27485648,\n",
       "         35.35533906],\n",
       "       [ 13.92838828, 102.6498904 ,  69.83552105,  81.0061726 ,\n",
       "         72.18032973],\n",
       "       [ 28.17800561,  88.23264702,  57.38466694,  74.14849965,\n",
       "         58.25804665]])"
      ]
     },
     "execution_count": 92,
     "metadata": {},
     "output_type": "execute_result"
    }
   ],
   "source": [
    "result"
   ]
  },
  {
   "cell_type": "code",
   "execution_count": 93,
   "id": "62c43950-6d9e-44c1-b48e-6a3d83d29bb7",
   "metadata": {},
   "outputs": [
    {
     "data": {
      "text/plain": [
       "array([[ 36.67424164,  94.25497334,  50.        ,  50.24937811,\n",
       "         59.23681288],\n",
       "       [ 78.18567644,  69.58448103,  20.24845673,  20.61552813,\n",
       "         37.16180835],\n",
       "       [ 83.48652586,  41.14608122,  50.44799302,  89.27485648,\n",
       "         35.35533906],\n",
       "       [ 13.92838828, 102.6498904 ,  69.83552105,  81.0061726 ,\n",
       "         72.18032973],\n",
       "       [ 28.17800561,  88.23264702,  57.38466694,  74.14849965,\n",
       "         58.25804665]])"
      ]
     },
     "execution_count": 93,
     "metadata": {},
     "output_type": "execute_result"
    }
   ],
   "source": [
    "scipy_result"
   ]
  },
  {
   "cell_type": "code",
   "execution_count": 94,
   "id": "7766ec23-a0bb-4e76-8b5c-e496ec303717",
   "metadata": {},
   "outputs": [
    {
     "data": {
      "text/plain": [
       "0.0007140636444091797"
      ]
     },
     "execution_count": 94,
     "metadata": {},
     "output_type": "execute_result"
    }
   ],
   "source": [
    "manual_time"
   ]
  },
  {
   "cell_type": "code",
   "execution_count": 95,
   "id": "b40abdbd-012c-4ad3-b5f7-819e560c594f",
   "metadata": {},
   "outputs": [
    {
     "data": {
      "text/plain": [
       "0.00024700164794921875"
      ]
     },
     "execution_count": 95,
     "metadata": {},
     "output_type": "execute_result"
    }
   ],
   "source": [
    "scipy_time"
   ]
  },
  {
   "cell_type": "markdown",
   "id": "973e8064",
   "metadata": {},
   "source": [
    "_______\n",
    "________"
   ]
  },
  {
   "cell_type": "markdown",
   "id": "1104acb7",
   "metadata": {},
   "source": [
    "* #### __Задача 6__: CrunchieMunchies __*__\n",
    "\n",
    "Вы работаете в отделе маркетинга пищевой компании MyCrunch, которая разрабатывает новый вид вкусных, полезных злаков под названием **CrunchieMunchies**.\n",
    "\n",
    "Вы хотите продемонстрировать потребителям, насколько полезны ваши хлопья по сравнению с другими ведущими брендами, поэтому вы собрали данные о питании нескольких разных конкурентов.\n",
    "\n",
    "Ваша задача - использовать вычисления Numpy для анализа этих данных и доказать, что ваши **СrunchieMunchies** - самый здоровый выбор для потребителей.\n"
   ]
  },
  {
   "cell_type": "code",
   "execution_count": 96,
   "id": "10a77f8d",
   "metadata": {},
   "outputs": [],
   "source": [
    "import numpy as np"
   ]
  },
  {
   "cell_type": "markdown",
   "id": "ab87cb03",
   "metadata": {},
   "source": [
    "1. Просмотрите файл cereal.csv. Этот файл содержит количества калорий для различных марок хлопьев. Загрузите данные из файла и сохраните их как calorie_stats."
   ]
  },
  {
   "cell_type": "code",
   "execution_count": 97,
   "id": "9681ebf2",
   "metadata": {},
   "outputs": [
    {
     "data": {
      "text/plain": [
       "array([ 70., 120.,  70.,  50., 110., 110., 110., 130.,  90.,  90., 120.,\n",
       "       110., 120., 110., 110., 110., 100., 110., 110., 110., 100., 110.,\n",
       "       100., 100., 110., 110., 100., 120., 120., 110., 100., 110., 100.,\n",
       "       110., 120., 120., 110., 110., 110., 140., 110., 100., 110., 100.,\n",
       "       150., 150., 160., 100., 120., 140.,  90., 130., 120., 100.,  50.,\n",
       "        50., 100., 100., 120., 100.,  90., 110., 110.,  80.,  90.,  90.,\n",
       "       110., 110.,  90., 110., 140., 100., 110., 110., 100., 100., 110.])"
      ]
     },
     "execution_count": 97,
     "metadata": {},
     "output_type": "execute_result"
    }
   ],
   "source": [
    "calorie_stats = np.loadtxt(\"./data/cereal.csv\", delimiter=\",\")\n",
    "calorie_stats"
   ]
  },
  {
   "cell_type": "markdown",
   "id": "139cfbd8",
   "metadata": {},
   "source": [
    "2. В одной порции CrunchieMunchies содержится 60 калорий. Насколько выше среднее количество калорий у ваших конкурентов?\n",
    "\n",
    "Сохраните ответ в переменной average_calories и распечатайте переменную в терминале"
   ]
  },
  {
   "cell_type": "code",
   "execution_count": 98,
   "id": "7036d240",
   "metadata": {},
   "outputs": [
    {
     "data": {
      "text/plain": [
       "106.88311688311688"
      ]
     },
     "execution_count": 98,
     "metadata": {},
     "output_type": "execute_result"
    }
   ],
   "source": [
    "average_calories = float(np.mean(calorie_stats))\n",
    "average_calories"
   ]
  },
  {
   "cell_type": "markdown",
   "id": "b2ddb4cd",
   "metadata": {},
   "source": [
    "3. Корректно ли среднее количество калорий отражает распределение набора данных? Давайте отсортируем данные и посмотрим.\n",
    "\n",
    "Отсортируйте данные и сохраните результат в переменной calorie_stats_sorted. Распечатайте отсортированную информацию"
   ]
  },
  {
   "cell_type": "code",
   "execution_count": 99,
   "id": "46eeb4ed",
   "metadata": {},
   "outputs": [
    {
     "data": {
      "text/plain": [
       "array([ 50.,  50.,  50.,  70.,  70.,  80.,  90.,  90.,  90.,  90.,  90.,\n",
       "        90.,  90., 100., 100., 100., 100., 100., 100., 100., 100., 100.,\n",
       "       100., 100., 100., 100., 100., 100., 100., 100., 110., 110., 110.,\n",
       "       110., 110., 110., 110., 110., 110., 110., 110., 110., 110., 110.,\n",
       "       110., 110., 110., 110., 110., 110., 110., 110., 110., 110., 110.,\n",
       "       110., 110., 110., 110., 120., 120., 120., 120., 120., 120., 120.,\n",
       "       120., 120., 120., 130., 130., 140., 140., 140., 150., 150., 160.])"
      ]
     },
     "execution_count": 99,
     "metadata": {},
     "output_type": "execute_result"
    }
   ],
   "source": [
    "calorie_stats_sorted = np.sort(calorie_stats)\n",
    "calorie_stats_sorted"
   ]
  },
  {
   "cell_type": "markdown",
   "id": "4dc74116",
   "metadata": {},
   "source": [
    "4. Похоже, что большинство значений выше среднего. Давайте посмотрим, является ли медиана наиболее корректным показателем набора данных.\n",
    "\n",
    "Вычислите медиану набора данных и сохраните свой ответ в median_calories. Выведите медиану, чтобы вы могли видеть, как она сравнивается со средним значением."
   ]
  },
  {
   "cell_type": "code",
   "execution_count": 100,
   "id": "b56627c3",
   "metadata": {},
   "outputs": [
    {
     "data": {
      "text/plain": [
       "110.0"
      ]
     },
     "execution_count": 100,
     "metadata": {},
     "output_type": "execute_result"
    }
   ],
   "source": [
    "median_calories = float(np.median(calorie_stats_sorted))\n",
    "median_calories"
   ]
  },
  {
   "cell_type": "markdown",
   "id": "a63ab72f",
   "metadata": {},
   "source": [
    "5. В то время как медиана показывает, что по крайней мере половина наших значений составляет более 100 калорий, было бы более впечатляюще показать, что значительная часть конкурентов имеет более высокое количество калорий, чем CrunchieMunchies.\n",
    "\n",
    "Рассчитайте различные процентили и распечатайте их, пока не найдете наименьший процентиль, превышающий 60 калорий. Сохраните это значение в переменной nth_percentile."
   ]
  },
  {
   "cell_type": "code",
   "execution_count": 101,
   "id": "fe80ce03",
   "metadata": {},
   "outputs": [
    {
     "data": {
      "text/plain": [
       "70.0"
      ]
     },
     "execution_count": 101,
     "metadata": {},
     "output_type": "execute_result"
    }
   ],
   "source": [
    "nth_percentile = float(np.percentile(calorie_stats_sorted, 4))\n",
    "nth_percentile"
   ]
  },
  {
   "cell_type": "markdown",
   "id": "a2a3c5aa",
   "metadata": {},
   "source": [
    "6. Хотя процентиль показывает нам, что у большинства конкурентов количество калорий намного выше, это неудобная концепция для использования в маркетинговых материалах.\n",
    "\n",
    "Вместо этого давайте подсчитаем процент хлопьев, в которых содержится более 60 калорий на порцию. Сохраните свой ответ в переменной more_calories и распечатайте его"
   ]
  },
  {
   "cell_type": "code",
   "execution_count": 102,
   "id": "ade0f6ea",
   "metadata": {},
   "outputs": [
    {
     "data": {
      "text/plain": [
       "96.1038961038961"
      ]
     },
     "execution_count": 102,
     "metadata": {},
     "output_type": "execute_result"
    }
   ],
   "source": [
    "more_calories = float((np.sum(calorie_stats_sorted > 60)/calorie_stats_sorted.size)*100)\n",
    "more_calories"
   ]
  },
  {
   "cell_type": "markdown",
   "id": "1735d65b",
   "metadata": {},
   "source": [
    "7. Это действительно высокий процент. Это будет очень полезно, когда мы будем продвигать CrunchieMunchies. Но один вопрос заключается в том, насколько велики различия в наборе данных? Можем ли мы сделать обобщение, что в большинстве злаков содержится около 100 калорий или разброс еще больше?\n",
    "\n",
    "Рассчитайте величину отклонения, найдя стандартное отклонение, Сохраните свой ответ в calorie_std и распечатайте на терминале. Как мы можем включить эту ценность в наш анализ?"
   ]
  },
  {
   "cell_type": "code",
   "execution_count": 103,
   "id": "85c8df1f",
   "metadata": {},
   "outputs": [
    {
     "data": {
      "text/plain": [
       "19.35718533390827"
      ]
     },
     "execution_count": 103,
     "metadata": {},
     "output_type": "execute_result"
    }
   ],
   "source": [
    "calorie_std = float(np.std(calorie_stats_sorted))\n",
    "calorie_std"
   ]
  },
  {
   "cell_type": "markdown",
   "id": "bd715648-b35e-44f5-9652-0c64d8a76976",
   "metadata": {},
   "source": [
    "Разброс небольшой, а это значит, что можно сделать обобщение, что в большинстве злаков содержится около 100 калорий"
   ]
  },
  {
   "cell_type": "markdown",
   "id": "037455c5",
   "metadata": {},
   "source": [
    "8. Напишите короткий абзац, в котором кратко изложите свои выводы и то, как, по вашему мнению, эти данные могут быть использованы в интересах Mycrunch при маркетинге CrunchieMunchies."
   ]
  },
  {
   "cell_type": "markdown",
   "id": "34284aff-7558-41b5-a4bc-20670877e189",
   "metadata": {},
   "source": [
    "Наглядно видно, что практически во всех хлопьях (96%) больше калорий, чем в CrunchieMunchies, поэтому можно сделать акцент на этом в маркетинге, продвигать их на аудиторию, которая следит за питанием, так как это хорошая характеристика, которая выгодно отличает эти хлопья от других и определенно привлечет покупателей."
   ]
  }
 ],
 "metadata": {
  "kernelspec": {
   "display_name": "Python 3 (ipykernel)",
   "language": "python",
   "name": "python3"
  },
  "language_info": {
   "codemirror_mode": {
    "name": "ipython",
    "version": 3
   },
   "file_extension": ".py",
   "mimetype": "text/x-python",
   "name": "python",
   "nbconvert_exporter": "python",
   "pygments_lexer": "ipython3",
   "version": "3.13.0"
  }
 },
 "nbformat": 4,
 "nbformat_minor": 5
}
